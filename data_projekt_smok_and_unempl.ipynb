{
 "cells": [
  {
   "cell_type": "markdown",
   "metadata": {},
   "source": [
    "### Príprava dát a základné štatistické analýzy súvislostí medzi fajčením a nezamestnanosťou v európskych krajinách"
   ]
  },
  {
   "cell_type": "markdown",
   "metadata": {},
   "source": [
    ". načítanie potrebných balíčkov a dát"
   ]
  },
  {
   "cell_type": "code",
   "execution_count": 1,
   "metadata": {},
   "outputs": [],
   "source": [
    "import pandas as pd\n",
    "import matplotlib.pyplot as plt\n",
    "from scipy.stats import spearmanr\n",
    "from scipy.stats import pearsonr\n",
    "from scipy.stats import shapiro\n",
    "import seaborn as sns\n",
    "import numpy as np\n",
    "    \n",
    "data = pd.read_csv(\"Smoking prevalence by sex.csv\")\n",
    "data_unempl = pd.read_csv(\"Unemployment rate by age and sex.csv\")"
   ]
  },
  {
   "cell_type": "markdown",
   "metadata": {},
   "source": [
    "TRANSFORMÁCIE A SPOL\n",
    "\n",
    ". vymazanie zbytočností\n",
    "\n",
    ". vyčistenie datasetov s prekrývajúcimi sa hodnotami (duplikáciami) v dimenziách AGE, EDUCATION LEVEL, GEOGRAPHY, SMOKING...\n",
    "\n",
    ". vybratie len rokov prítomných v oboch datasetoch"
   ]
  },
  {
   "cell_type": "code",
   "execution_count": null,
   "metadata": {},
   "outputs": [],
   "source": [
    "# zmazanie prebytocnych stlpcov\n",
    "data = data.drop(columns=[\"freq\", \"unit\"])\n",
    "data_unempl = data_unempl.drop(columns=[\"freq\"])\n",
    "print(data.columns)\n",
    "print(data_unempl.columns)"
   ]
  },
  {
   "cell_type": "code",
   "execution_count": 3,
   "metadata": {},
   "outputs": [],
   "source": [
    "# premenovanie roznych kategorii v dimenzii veku v tabulke o zamestnani\n",
    "# Zmena len pre určité riadky\n",
    "data_unempl.loc[data_unempl[\"age\"] == \"Y15-74\", \"age\"] = \"Y15-64\"\n",
    "\n",
    "# premenovanie roznych kategorii v dimenzii veku v tabulke o fajceni\n",
    "# Zmena len pre určité riadky \n",
    "data.loc[data[\"age\"] == \"Y_GE15\", \"age\"] = \"Y15-64\""
   ]
  },
  {
   "cell_type": "code",
   "execution_count": 4,
   "metadata": {},
   "outputs": [],
   "source": [
    "# filtrovanie veku v tabulke o zamestnanosti\n",
    "age_filter = [\"Y15-64\"]  \n",
    "data_unempl_filtered = data_unempl[data_unempl[\"age\"].isin(age_filter)]\n",
    "\n",
    "# filtrovanie krajin\n",
    "geo_filter = list(set(data[\"geo\"]) & set(data_unempl_filtered[\"geo\"]))\n",
    "data_filtered = data[data[\"geo\"].isin(geo_filter)]\n",
    "data_unempl_filtered = data_unempl_filtered[data_unempl_filtered[\"geo\"].isin(geo_filter)]\n",
    "\n",
    "# ponechanie len riadkov, kde krajina nie je \"EU27_2020\"\n",
    "data_filtered = data_filtered[data_filtered[\"geo\"] != \"EU27_2020\"]\n",
    "data_unempl_filtered = data_unempl_filtered[data_unempl_filtered[\"geo\"] != \"EU27_2020\"]\n",
    "\n",
    "# filtrovanie pohlavi\n",
    "sex_filter = [\"F\", \"M\"]\n",
    "data_filtered = data_filtered[data_filtered[\"sex\"].isin(sex_filter)]\n",
    "data_unempl_filtered = data_unempl_filtered[data_unempl_filtered[\"sex\"].isin(sex_filter)]\n",
    "\n",
    "# filtrovanie units v tabulke o zamestnani\n",
    "unit_filter = [\"PC_POP\"]\n",
    "data_unempl_filtered = data_unempl_filtered[data_unempl_filtered[\"unit\"].isin(unit_filter)]"
   ]
  },
  {
   "cell_type": "code",
   "execution_count": null,
   "metadata": {},
   "outputs": [],
   "source": [
    "# filtrovanie datasetov o zamestnani na spoločné roky\n",
    "smoking_numeric_columns = [col for col in data_filtered.columns if col.isdigit()]\n",
    "unempl_numeric_columns = [col for col in data_unempl_filtered.columns if col.isdigit()]\n",
    "common_years = list(set(smoking_numeric_columns) & set(unempl_numeric_columns))\n",
    "data_unempl_filtered = data_unempl_filtered[[\"geo\", \"sex\", \"age\"] + common_years]\n",
    "\n",
    "# kontrola ci su vsade rovnake roky, aj v prvej tabulke\n",
    "print(data_filtered.columns)\n",
    "print(data_unempl_filtered.columns)\n",
    "\n"
   ]
  },
  {
   "cell_type": "markdown",
   "metadata": {},
   "source": [
    ". transformácia \"širokej\" tabuľky na \"dlhú\", aby som mohla mať roky tiež v riadkoch ako ostatné premenné/dimenzie"
   ]
  },
  {
   "cell_type": "code",
   "execution_count": 6,
   "metadata": {},
   "outputs": [],
   "source": [
    "# premena stlpcov s rokmi na riadky\n",
    "smoking_long = data_filtered.melt(\n",
    "    id_vars=[\"geo\", \"sex\", \"age\"],  # ostavajuce stlpce\n",
    "    value_vars=[str(year) for year in [\"2006\", \"2009\", \"2012\", \"2014\", \"2017\", \"2020\"]],  # roky\n",
    "    var_name=\"year\",  # nazov noveho stlpcu\n",
    "    value_name=\"smoking_rate\"  # nazov pre hodnoty noveho stlpcu\n",
    ")\n",
    "\n",
    "unemployment_long = data_unempl_filtered.melt(\n",
    "    id_vars=[\"geo\", \"sex\", \"age\"],  \n",
    "    value_vars=[str(year) for year in [\"2006\", \"2009\", \"2012\", \"2014\", \"2017\", \"2020\"]], \n",
    "    var_name=\"year\",  \n",
    "    value_name=\"unemployment_rate\")"
   ]
  },
  {
   "cell_type": "code",
   "execution_count": null,
   "metadata": {},
   "outputs": [],
   "source": [
    "# pre kontrolu\n",
    "smoking_long"
   ]
  },
  {
   "cell_type": "code",
   "execution_count": null,
   "metadata": {},
   "outputs": [],
   "source": [
    "# pre kontrolu\n",
    "unemployment_long"
   ]
  },
  {
   "cell_type": "code",
   "execution_count": null,
   "metadata": {},
   "outputs": [],
   "source": [
    "# zlucenie tabuliek (merge) na základe spoločných stĺpcov (geo, age, sex, year)\n",
    "data_merged = pd.merge(smoking_long, unemployment_long, on=[\"geo\", \"sex\", \"age\", \"year\"], how=\"inner\")\n",
    "\n",
    "# pre kontrolu: vystup vysledku\n",
    "data_merged"
   ]
  },
  {
   "cell_type": "markdown",
   "metadata": {},
   "source": [
    "### Štatistická analýza"
   ]
  },
  {
   "cell_type": "code",
   "execution_count": null,
   "metadata": {},
   "outputs": [],
   "source": [
    "# hladanie nulovych hodnot pred analyzou\n",
    "print(data_merged[\"unemployment_rate\"].isnull().sum())  # pocet NaN v nezamestnanosti\n",
    "print(data_merged[\"smoking_rate\"].isnull().sum())  # pocet NaN vo fajceni\n",
    "\n",
    "print(data_merged[\"unemployment_rate\"].describe())  # statistika nezamestnanosti\n",
    "print(data_merged[\"smoking_rate\"].describe())  # statistika fajcenia"
   ]
  },
  {
   "cell_type": "code",
   "execution_count": null,
   "metadata": {},
   "outputs": [],
   "source": [
    "# vymazanie nulovych hodnot\n",
    "data_merged_cleaned = data_merged.dropna(subset=[\"unemployment_rate\", \"smoking_rate\"])\n",
    "data_merged_cleaned = data_merged_cleaned[(data_merged_cleaned[\"unemployment_rate\"] > 0) \n",
    "                                          & (data_merged_cleaned[\"smoking_rate\"] > 0)]\n"
   ]
  },
  {
   "cell_type": "code",
   "execution_count": null,
   "metadata": {},
   "outputs": [],
   "source": [
    "# histogram rozlozenia dat v \"smoking_rate\"\n",
    "plt.figure(figsize=(4, 3))\n",
    "plt.hist(data_merged_cleaned[\"smoking_rate\"], bins=15, edgecolor=\"black\", alpha=0.7)\n",
    "plt.title(f\"Smoking Rate Distribution\")\n",
    "plt.xlabel(\"Smoking Rate (%)\")\n",
    "plt.ylabel(\"Frequency\")\n",
    "plt.show()\n",
    "\n",
    "# histogram rozlozenia dat v \"unemployment_rate\"\n",
    "plt.figure(figsize=(4, 3))\n",
    "plt.hist(data_merged_cleaned[\"unemployment_rate\"], bins=15, edgecolor=\"black\", alpha=0.7)\n",
    "plt.title(f\"Unemployment Rate Distribution\")\n",
    "plt.xlabel(\"Unemployment Rate (%)\")\n",
    "plt.ylabel(\"Frequency\")\n",
    "plt.show()"
   ]
  },
  {
   "cell_type": "code",
   "execution_count": null,
   "metadata": {},
   "outputs": [],
   "source": [
    "# testy normalnosti rozlozenia dat (ak je p> 0.05 ta je to norm. rozlozenie)\n",
    "stat1, p1 = shapiro(data_merged_cleaned[\"smoking_rate\"])\n",
    "print(f\"Smoking: Shapiro-Wilk Test: Statistics={stat1}, P-value={p1}\")\n",
    "\n",
    "stat2, p2 = shapiro(data_merged_cleaned[\"unemployment_rate\"])\n",
    "print(f\"Unemplyment: Shapiro-Wilk Test: Statistics={stat2}, P-value={p2}\")"
   ]
  },
  {
   "cell_type": "code",
   "execution_count": 15,
   "metadata": {},
   "outputs": [],
   "source": [
    "# logaritmicka transformacia \"unemployment_rate\" s \n",
    "data_merged_cleaned[\"log_unemployment_rate\"] = np.log(data_merged_cleaned[\"unemployment_rate\"])"
   ]
  },
  {
   "cell_type": "code",
   "execution_count": null,
   "metadata": {},
   "outputs": [],
   "source": [
    "# histogram rozlozenia dat v \"unemployment_rate\"\n",
    "plt.figure(figsize=(4, 3))\n",
    "plt.hist(data_merged_cleaned[\"log_unemployment_rate\"], bins=15, edgecolor=\"black\", alpha=0.7)\n",
    "plt.title(f\"Unemployment Rate Distribution\")\n",
    "plt.xlabel(\"LOG_Unemployment Rate (%)\")\n",
    "plt.ylabel(\"Frequency\")\n",
    "plt.show()"
   ]
  },
  {
   "cell_type": "code",
   "execution_count": null,
   "metadata": {},
   "outputs": [],
   "source": [
    "# vypocet korelacie medzi nezamestnanostou a fajcenim\n",
    "correlation, p_value = pearsonr(data_merged_cleaned[\"log_unemployment_rate\"], data_merged_cleaned[\"smoking_rate\"])\n",
    "print(f\"Korelácia: {correlation}, P-hodnota: {p_value}\")"
   ]
  },
  {
   "cell_type": "markdown",
   "metadata": {},
   "source": [
    "pozn.:\n",
    "Existuje štatisticky významná, slabá až stredná pozitívna súvislosť medzi nezamestnanosťou a fajčením – vyššia nezamestnanosť môže byť spojená s vyššou mierou fajčenia."
   ]
  },
  {
   "cell_type": "code",
   "execution_count": 159,
   "metadata": {},
   "outputs": [],
   "source": [
    "data_merged_cleaned.to_csv(\"data_smok_unempl.csv\", index=False)"
   ]
  },
  {
   "cell_type": "code",
   "execution_count": null,
   "metadata": {},
   "outputs": [],
   "source": [
    "# Scatter plot pre koreláciu\n",
    "plt.figure(figsize=(8, 6))  # Nastavenie veľkosti grafu\n",
    "sns.scatterplot(\n",
    "    x=data_merged_cleaned[\"log_unemployment_rate\"], \n",
    "    y=data_merged_cleaned[\"smoking_rate\"], \n",
    "    alpha=0.7, \n",
    "    color=\"blue\"\n",
    ")\n",
    "\n",
    "# Pridanie regresnej čiary (voliteľné)\n",
    "sns.regplot(\n",
    "    x=data_merged_cleaned[\"log_unemployment_rate\"], \n",
    "    y=data_merged_cleaned[\"smoking_rate\"], \n",
    "    scatter=False, \n",
    "    color=\"red\", \n",
    "    ci=None, \n",
    "    line_kws={\"linewidth\": 1.5}\n",
    ")\n",
    "\n",
    "# Popisky grafu\n",
    "plt.title(f\"Korelácia medzi nezamestnanosťou a fajčením\\nKorelácia: {correlation:.2f}, P-hodnota: {p_value:.2e}\", fontsize=14)\n",
    "plt.xlabel(\"Log. podiel nezamestnanosti (%)\", fontsize=12)\n",
    "plt.ylabel(\"Podiel fajčiarov (%)\", fontsize=12)\n",
    "plt.grid(alpha=0.3)\n",
    "plt.tight_layout()\n",
    "\n",
    "# Zobrazenie grafu\n",
    "plt.show()"
   ]
  },
  {
   "cell_type": "code",
   "execution_count": null,
   "metadata": {},
   "outputs": [],
   "source": [
    "# agregacia dat podla rokov (priemery pre kazdy rok)\n",
    "data_by_year = data_merged_cleaned.groupby(\"year\")[[\"smoking_rate\", \"unemployment_rate\"]].mean().reset_index()\n",
    "\n",
    "# kombinovany graf\n",
    "plt.figure(figsize=(10, 6))\n",
    "\n",
    "# liniove grafy pre nezam. a fajcenie\n",
    "plt.plot(data_by_year[\"year\"], data_by_year[\"smoking_rate\"], label=\"Podiel fajčiarov (%)\", marker=\"o\", linestyle=\"-\", linewidth=2)\n",
    "plt.plot(data_by_year[\"year\"], data_by_year[\"unemployment_rate\"], label=\"Podiel nezamestnaných (%)\", marker=\"o\", linestyle=\"--\", linewidth=2)\n",
    "\n",
    "# scatter ploty pre presne hodnoty (body)\n",
    "plt.scatter(data_by_year[\"year\"], data_by_year[\"smoking_rate\"], color=\"blue\", alpha=0.7, label=\"Fajčenie\")\n",
    "plt.scatter(data_by_year[\"year\"], data_by_year[\"unemployment_rate\"], color=\"orange\", alpha=0.7, label=\"Nezamestnanosť\")\n",
    "\n",
    "# nastavenia grafu\n",
    "plt.title(\"Vývoj podielu fajčiarov a nezamestnanostnaných v priebehu rokov\", fontsize=14)\n",
    "plt.xlabel(\"Rok\", fontsize=12)\n",
    "plt.ylabel(\"Hodnoty (%)\", fontsize=12)\n",
    "plt.legend()\n",
    "plt.grid(alpha=0.3)\n",
    "plt.tight_layout()\n",
    "plt.show()\n"
   ]
  }
 ],
 "metadata": {
  "kernelspec": {
   "display_name": "Python 3",
   "language": "python",
   "name": "python3"
  },
  "language_info": {
   "codemirror_mode": {
    "name": "ipython",
    "version": 3
   },
   "file_extension": ".py",
   "mimetype": "text/x-python",
   "name": "python",
   "nbconvert_exporter": "python",
   "pygments_lexer": "ipython3",
   "version": "3.13.0"
  }
 },
 "nbformat": 4,
 "nbformat_minor": 2
}
